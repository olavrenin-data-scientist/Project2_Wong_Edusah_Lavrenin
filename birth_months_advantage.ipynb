{
 "cells": [
  {
   "cell_type": "markdown",
   "id": "fdcf9421",
   "metadata": {},
   "source": [
    "##  Birth-months advantage in sport.\n",
    "Team member: Jimmy Wong, Oleksii Lavrenin, Nana Kweku Edusah\n",
    "\n",
    "Github: https://github.com/olavrenin-data-scientist/Project2_Wong_Edusah_Lavrenin\n",
    "\n",
    "Primary Dataset: https://github.com/rfordatascience/tidytuesday/blob/main/data/2024/2024-01-09/readme.md\n",
    "\n",
    "\n"
   ]
  },
  {
   "cell_type": "markdown",
   "id": "6433c24c",
   "metadata": {},
   "source": [
    "## Data structure\n",
    "1. NHL Player Birth Records (From NHL Rosters)\n",
    "Observations: Over 7,000 rows, each representing a unique player-season entry across NHL team rosters.\n",
    " \n",
    "Key Variables:\n",
    " \n",
    "player_id  – A unique ID for each NHL player helps us to remove duplicates and identify distinct players.\n",
    " \n",
    "birth_date – Full date of birth from which we detect the birth month variable used in the analysis.\n",
    " \n",
    "birth_country – Country of birth.\n",
    " \n",
    "position_type – Player’s general position.\n",
    " \n",
    "team_code – NHL team abbreviation. We can track regional effects.\n",
    " \n",
    "Most useful variables:\n",
    " \n",
    "birth_date - for a fetching months from date of birth date.\n",
    " \n",
    "birth_country - for detecting only Canadian native players.\n",
    " \n",
    "player_id  - distinct players (without duplication of records).\n",
    " \n",
    "position_type - for understating the role in the team.\n",
    "\n",
    " \n",
    "\n",
    "\n",
    "2. Canadian Birth Records (Canada, 1991–2022)\n",
    "Observations: 384 rows — one row for each month from 1991 to 2022 (32 years × 12 months)\n",
    " \n",
    "Purpose: Define a baseline month of birth for the Canadian population.\n",
    " \n",
    "Key Variables:\n",
    " \n",
    "year - calendar year of birthday.\n",
    " \n",
    "month  - calendar month of birthday.\n",
    " \n",
    "births – number of birthdays in specific months.\n",
    " \n",
    "Most useful variables:\n",
    " \n",
    "month and aggregated births - help to detect total numbers for months and years.\n",
    " \n",
    "These datasets help to understand the statistical months of birthdays for Canadian players vs the common Canadian population and detect the potential mismatch.\n"
   ]
  },
  {
   "cell_type": "markdown",
   "id": "71eb82ac",
   "metadata": {},
   "source": [
    "## Introduction\n",
    "     The sports industry has a bias that many individuals born earlier sometimes have advantages in power and skillset. This is a unique phenomenon known as birth months advantage or relative effect (ARE). For example, in your league of ice hockey, this effect is very notable, when athletes were born In January and compete against kids born in late December. With this 11–12-month difference, older children are more skilled and stronger, and this impacts long-term success. This project researches and analyzes the birth-months advantage effect in the Canadian NHL league between hockey players. The research on this pattern is very important because the bias can potentially influence the selection of players by coaches and unequal training for players. Coaches, who believe in this bias can give more preference to players who were born in earlier months.\n"
   ]
  },
  {
   "cell_type": "markdown",
   "id": "9071e0f4",
   "metadata": {},
   "source": [
    "## Questions\n",
    "1. Do we have a disproportion in the number of NHL players born in January and December?\n",
    "2. What birth-month results NHL players vs the general Canadian population?\n",
    "3. Do we have consistent or inconsistent effects where players were born before and after 2000?\n",
    "4. Does the birth-month effect reflect on position?\n",
    "5. How does the effect affect goaltenders vs defensemen?\n",
    "6. Do some teams have more or fewer players in early months vs other teams?\n",
    "7. Does this phenomenon exist only in hockey or in other sports too? Example: compare with additional dataset for football (NHL)."
   ]
  }
 ],
 "metadata": {
  "kernelspec": {
   "display_name": "Python 3",
   "language": "python",
   "name": "python3"
  },
  "language_info": {
   "codemirror_mode": {
    "name": "ipython",
    "version": 3
   },
   "file_extension": ".py",
   "mimetype": "text/x-python",
   "name": "python",
   "nbconvert_exporter": "python",
   "pygments_lexer": "ipython3",
   "version": "3.12.1"
  }
 },
 "nbformat": 4,
 "nbformat_minor": 5
}
